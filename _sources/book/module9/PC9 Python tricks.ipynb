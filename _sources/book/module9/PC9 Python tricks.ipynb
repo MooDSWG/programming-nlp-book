{
 "cells": [
  {
   "cell_type": "markdown",
   "metadata": {
    "colab_type": "text",
    "id": "x6i8AiFVK97z"
   },
   "source": [
    "Problem 1: List comprehension 1\n",
    "==============\n",
    "Given a list of English words, **use `for` or `while` loop** to create a list of word lengths of each word in the list."
   ]
  },
  {
   "cell_type": "code",
   "execution_count": 0,
   "metadata": {
    "colab": {},
    "colab_type": "code",
    "id": "hLbv4ILOK-My"
   },
   "outputs": [],
   "source": [
    "tokens = ['Fruit', 'flies', 'like', 'bananas', '.']\n",
    "\n",
    "# For loop\n",
    "\n"
   ]
  },
  {
   "cell_type": "markdown",
   "metadata": {
    "colab_type": "text",
    "id": "hNM5WQJt0NYR"
   },
   "source": [
    "Now, accomplish the same task using python's list comprehension. \n",
    "\n",
    "Given a list of English words, **use list comprehension** to create a list of word lengths of each word in the list."
   ]
  },
  {
   "cell_type": "code",
   "execution_count": 0,
   "metadata": {
    "colab": {},
    "colab_type": "code",
    "id": "cGI5xMYx0XVl"
   },
   "outputs": [],
   "source": [
    "tokens = ['Fruit', 'flies', 'like', 'bananas', '.']\n",
    "\n",
    "### Your implementation here\n",
    "# Use list comprehension\n",
    "token_length_list = "
   ]
  },
  {
   "cell_type": "markdown",
   "metadata": {
    "colab_type": "text",
    "id": "rBUHw5K-KSl6"
   },
   "source": [
    "Problem 2: List comprehension 2\n",
    "======================\n",
    "Given a list of English words, **use list comprehension** to create a list of words that are all capitalized. You must also exclude words that are shorter than two characters."
   ]
  },
  {
   "cell_type": "code",
   "execution_count": 0,
   "metadata": {
    "colab": {},
    "colab_type": "code",
    "id": "anfXw7S3KTCR"
   },
   "outputs": [],
   "source": [
    "tokens = ['Fruit', 'flies', 'do', 'like', 'bananas', '.']\n",
    "new_token_list = "
   ]
  },
  {
   "cell_type": "markdown",
   "metadata": {
    "colab_type": "text",
    "id": "ccHIoiG1LPuG"
   },
   "source": [
    "Problem 3: List comprehension 3\n",
    "============\n",
    "Given a list of words, create a list of words that ONLY have Thai characters. "
   ]
  },
  {
   "cell_type": "code",
   "execution_count": 0,
   "metadata": {
    "colab": {},
    "colab_type": "code",
    "id": "Knvj9iZKLP-1"
   },
   "outputs": [],
   "source": [
    "import re\n",
    "tokens = ['คน', 'ดาวน์โหลด', 'app', 'กัน', 'มา']\n",
    "thai_tokens = "
   ]
  },
  {
   "cell_type": "markdown",
   "metadata": {
    "colab_type": "text",
    "id": "re6bHHcMMoAg"
   },
   "source": [
    "Problem 4: Dictionary Comprehension\n",
    "====================\n",
    "Given a list words, create a dictionary whose keys are a word and values are the length of the word. \n",
    "\n"
   ]
  },
  {
   "cell_type": "code",
   "execution_count": 0,
   "metadata": {
    "colab": {},
    "colab_type": "code",
    "id": "r36dSI7cMnso"
   },
   "outputs": [],
   "source": [
    "tokens = ['Fruit', 'flies', 'like', 'bananas', '.']\n",
    "token_to_length = "
   ]
  },
  {
   "cell_type": "markdown",
   "metadata": {
    "colab_type": "text",
    "id": "yHCWVFhSNDCs"
   },
   "source": [
    "Problem 5: Dictionary Comprehension\n",
    "======================\n",
    "Given two lists of words that are translations of each other, create a dictionary whose key is an English and whose value is the French translation of that word. And keep only English words that are longer than 3 characters."
   ]
  },
  {
   "cell_type": "code",
   "execution_count": 0,
   "metadata": {
    "colab": {},
    "colab_type": "code",
    "id": "yB3m4nKTNDOH"
   },
   "outputs": [],
   "source": [
    "english_words = ['chair', 'pen', 'eraser', 'computer']\n",
    "french_words = ['chaise', 'stylo', 'gomme', 'ordinateur']\n",
    "en_to_fr_dict = "
   ]
  },
  {
   "cell_type": "markdown",
   "metadata": {
    "colab_type": "text",
    "id": "Aj94wgAgNhiP"
   },
   "source": [
    "Problem 6: Lambda for custom sort\n",
    "======================\n",
    "Given a list of x,y coordinate tuples, sort the list by y values.\n"
   ]
  },
  {
   "cell_type": "code",
   "execution_count": 0,
   "metadata": {
    "colab": {},
    "colab_type": "code",
    "id": "SIHnehdUNhy1"
   },
   "outputs": [],
   "source": [
    "coordinates = [ (10, 100), (100, 2), (10, 700), (1,1)]\n",
    "y_sorted_coordinates = "
   ]
  },
  {
   "cell_type": "markdown",
   "metadata": {
    "colab_type": "text",
    "id": "pO-Fs0eAOEPj"
   },
   "source": [
    "Problem 7: Lambda for custom sort\n",
    "======================\n",
    "Given a list of sentences (a list of strings), sort the list by the length of the sentence."
   ]
  },
  {
   "cell_type": "code",
   "execution_count": 0,
   "metadata": {
    "colab": {},
    "colab_type": "code",
    "id": "LD85CyGjOEa6"
   },
   "outputs": [],
   "source": [
    "sentences = ['I love you forever', 'I love you more', 'I love you forever more']\n",
    "sentence_length_sorted = "
   ]
  },
  {
   "cell_type": "markdown",
   "metadata": {
    "colab_type": "text",
    "id": "gh_tsfAf57ru"
   },
   "source": [
    "# Problem 8: Merging Lists\n",
    "\n",
    "Given two lists, create a third list by picking an odd-index element from the first list and even index elements from the second."
   ]
  },
  {
   "cell_type": "code",
   "execution_count": 0,
   "metadata": {
    "colab": {},
    "colab_type": "code",
    "id": "ziR6rxJw5_gl"
   },
   "outputs": [],
   "source": [
    "list_1 = ['I', 'love', 'you', 'but', 'you', 'don\\'t', 'know', 'me']\n",
    "list_2 = ['You', 'hate', 'cockroaches', 'and', 'I', 'can', 'feel', 'it']\n",
    "merged_list = "
   ]
  },
  {
   "cell_type": "markdown",
   "metadata": {
    "colab_type": "text",
    "id": "QlhZutp46tl3"
   },
   "source": [
    "# Problem 9. Pair Tuples\n",
    "Given two lists of equal size, create a **list** and a **set** such that both contain the elements from both lists in the pair.\n",
    "\n",
    "*Reminder: You can create a tuple in python using bracket ( ) symbols.*"
   ]
  },
  {
   "cell_type": "markdown",
   "metadata": {
    "colab_type": "text",
    "id": "qWTU7NXv69er"
   },
   "source": [
    "**Expected Output**\n",
    "\n",
    "\n",
    "```\n",
    "Result list\n",
    "[(2, 4), (3, 9), (4, 16), (5, 25), (6, 36), (7, 49), (8, 64)]\n",
    "\n",
    "Result set\n",
    "{(6, 36), (8, 64), (4, 16), (5, 25), (3, 9), (7, 49), (2, 4)}\n",
    "```\n",
    "\n"
   ]
  },
  {
   "cell_type": "code",
   "execution_count": 0,
   "metadata": {
    "colab": {},
    "colab_type": "code",
    "id": "im57rzsJ63Pn"
   },
   "outputs": [],
   "source": [
    "list_1 = [2, 3, 4, 5, 6, 7, 8]\n",
    "list_2 = [4, 9, 16, 25, 36, 49, 64]\n",
    "\n",
    "result_list = \n",
    "result_set = "
   ]
  },
  {
   "cell_type": "markdown",
   "metadata": {
    "colab_type": "text",
    "id": "HTVwbaKh7TJi"
   },
   "source": [
    "# Problem 10. List Sums\n",
    "Given a list of lists, find the sum of each member list.\n",
    "\n",
    "**Expected Output**\n",
    "```\n",
    "[6, 15, 33, 24]\n",
    "```"
   ]
  },
  {
   "cell_type": "code",
   "execution_count": 0,
   "metadata": {
    "colab": {},
    "colab_type": "code",
    "id": "Ywv1m-wh7SwK"
   },
   "outputs": [],
   "source": [
    "big_list = [[1,2,3], [4,5,6], [10,11,12], [7,8,9]]\n",
    "sum_of_list =\n",
    "\n",
    "\n",
    "print(sum_of_list)"
   ]
  },
  {
   "cell_type": "markdown",
   "metadata": {
    "colab_type": "text",
    "id": "0XgHXq771iHB"
   },
   "source": [
    "# (optional) Problem 11. Comprehension in Comprehension\n",
    "\n",
    "Given a **list of lists of tuples**, make the **list of lists** that extracts only the first element of each tuple\n",
    "\n",
    "~~~python\n",
    "keyword_topic = [\n",
    "    [('like', 0.01015),('country', 0.00965),('Glide', 0.00653),('Typing', 0.00653),('Google', 0.00653)],\n",
    "    [('Thanathorn', 0.01018),('leader', 0.00736),('opposition', 0.00707),('party', 0.00633),('democracy', 0.00606)],\n",
    "    [('King', 0.01006),('royal', 0.00991),('embassy', 0.00934),('palace', 0.00824),('Vajiralongkorn', 0.00824)],\n",
    "    [('anti', 0.01359),('Chinese', 0.01321),('Kong', 0.01319),('Hong', 0.01318),('activists', 0.01282)]]\n",
    "~~~\n",
    "\n",
    "**Expected Output**\n",
    "\n",
    "~~~python\n",
    "[['like', 'country', 'Glide', 'Typing', 'Google'],\n",
    " ['Thanathorn', 'leader', 'opposition', 'party', 'democracy'],\n",
    " ['King', 'royal', 'embassy', 'palace', 'Vajiralongkorn'],\n",
    " ['anti', 'Chinese', 'Kong', 'Hong', 'activists']]\n",
    "~~~"
   ]
  },
  {
   "cell_type": "code",
   "execution_count": 0,
   "metadata": {
    "colab": {},
    "colab_type": "code",
    "id": "AhSyjK1z3z5u"
   },
   "outputs": [],
   "source": [
    "keyword_topic = [\n",
    "    [('like', 0.01015),('country', 0.00965),('Glide', 0.00653),('Typing', 0.00653),('Google', 0.00653)],\n",
    "    [('Thanathorn', 0.01018),('leader', 0.00736),('opposition', 0.00707),('party', 0.00633),('democracy', 0.00606)],\n",
    "    [('King', 0.01006),('royal', 0.00991),('embassy', 0.00934),('palace', 0.00824),('Vajiralongkorn', 0.00824)],\n",
    "    [('anti', 0.01359),('Chinese', 0.01321),('Kong', 0.01319),('Hong', 0.01318),('activists', 0.01282)]]"
   ]
  },
  {
   "cell_type": "code",
   "execution_count": 0,
   "metadata": {
    "colab": {},
    "colab_type": "code",
    "id": "9vz0cCwb35L_"
   },
   "outputs": [],
   "source": [
    "only_keyword = "
   ]
  },
  {
   "cell_type": "markdown",
   "metadata": {
    "colab_type": "text",
    "id": "X5ZTCa1NALHh"
   },
   "source": [
    "# Extra: Game of Thrones Characters\n",
    "\n",
    "![Game of Thrones](https://scontent.fbkk2-6.fna.fbcdn.net/v/t1.0-9/61866589_10156657550477734_921253150503993344_n.jpg?_nc_cat=104&_nc_oc=AQnhpYV-8PUTHS6P8okESWRdPCn7h1yo2NDqORhfIHn5aBs74DrnrXcFTjIPGUYHhpk&_nc_ht=scontent.fbkk2-6.fna&oh=c313c90f155061cc31f8558e29b1ef81&oe=5E51A0ED)\n",
    "\n",
    "There are hundreds of characters in the renowned television series \"Game of Thrones.\" If you have watched the series, you would know that the family name is an important element of each character. Here, we have a list of all 159 characters of the series from Wikipedia."
   ]
  },
  {
   "cell_type": "code",
   "execution_count": 0,
   "metadata": {
    "colab": {},
    "colab_type": "code",
    "id": "wQLpAhGBATcg"
   },
   "outputs": [],
   "source": [
    "got_characters = ['Eddard \"Ned\" Stark', 'Robert Baratheon', 'Jaime Lannister', 'Catelyn Stark', 'Cersei Lannister', 'Daenerys Targaryen', 'Jorah Mormont', 'Viserys Targaryen', 'Jon Snow', 'Sansa Stark', 'Arya Stark', 'Robb Stark', 'Theon Greyjoy', 'Bran Stark', 'Joffrey Baratheon', 'Sandor \"The Hound\" Clegane', 'Tyrion Lannister', 'Khal Drogo', 'Petyr \"Littlefinger\" Baelish', 'Davos Seaworth', 'Samwell Tarly', 'Stannis Baratheon', 'Melisandre', 'Jeor Mormont', 'Bronn', 'Varys', 'Shae', 'Margaery Tyrell', 'Tywin Lannister', 'Talisa Maegyr', 'Ygritte', 'Gendry', 'Tormund Giantsbane', 'Brienne of Tarth', 'Ramsay Bolton', 'Gilly', 'Daario Naharis', 'Missandei', 'Ellaria Sand', 'Tommen Baratheon', 'Jaqen H\\'ghar', 'Roose Bolton', 'The High Sparrow', 'Grey Worm', 'Grand Maester Pycelle', 'Meryn Trant', 'Hodor', 'Grenn', 'Osha', 'Rickon Stark', 'Ros', 'Gregor Clegane', 'Janos Slynt', 'Lancel Lannister', 'Myrcella Baratheon', 'Rodrik Cassel', 'Maester Luwin', 'Irri', 'Doreah', 'Renly Baratheon', 'Yoren', 'Kevan Lannister', 'Rakharo', 'Ilyn Payne', 'Barristan Selmy', 'Rast', 'Maester Aemon', 'Pypar', 'Alliser Thorne', 'Othell Yarwyck', 'Robin Arryn', 'Benjen Stark', 'Lysa Arryn', 'Septa Mordane', 'Qotho', 'Jory Cassel', 'Marillion', 'Greatjon Umber', 'Mirri Maz Duur', 'Syrio Forel', 'Loras Tyrell', 'Hot Pie', 'Biter', 'Rorge', 'Lommy Greenhands', 'Rickard Karstark', 'Beric Dondarrion', 'Podrick Payne', 'Eddison Tollett', 'Yara Greyjoy', 'Craster', 'Dontos Hollard', 'Kovarro', 'Dagmer', 'Xaro Xhoan Daxos', 'Pyat Pree', 'Amory Lorch', 'Black Lorren', 'Qhorin Halfhand', 'Spice King', 'Silk King', 'Alton Lannister', 'Selyse Florent', 'Little Sam', 'Qyburn', 'Olenna Tyrell', 'Shireen Baratheon', 'Meera Reed', 'Jojen Reed', 'Locke', 'Mance Rayder', 'Edmure Tully', 'Thoros of Myr', 'Brynden Tully', 'Orell', 'Anguy', 'Kraznys mo Nakloz', 'High Septon', 'Myranda', 'Olyvar', 'Lothar Frey', 'Black Walder Rivers', 'Olly', 'Mace Tyrell', 'Oberyn Martell', 'Styr', 'Thenn warg', 'Walda Bolton', 'Hizdahr zo Loraq', 'Yohn Royce', 'Three-Eyed Raven', 'Leaf', 'Night King', 'The Waif', 'Bowen Marsh', 'Septa Unella', 'Tyene Sand', 'Nymeria Sand', 'Obara Sand', 'Areo Hotah', 'Doran Martell', 'Trystane Martell', 'Wun Weg Wun Dar Wun', 'Maester Wolkan', 'Qhono', 'Lyanna Mormont', 'Harald Karstark', 'Izembaro', 'Khal Moro', 'Lady Crane', 'Bobono', 'Clarenzo', 'Euron Greyjoy', 'Robett Glover', 'Randyll Tarly', 'Dickon Tarly', 'Archmaester Ebrose', 'Harrag', 'Alys Karstark',]"
   ]
  },
  {
   "cell_type": "code",
   "execution_count": 0,
   "metadata": {
    "colab": {},
    "colab_type": "code",
    "id": "x1maFmYdBcr0"
   },
   "outputs": [],
   "source": [
    "print(len(got_characters))"
   ]
  },
  {
   "cell_type": "markdown",
   "metadata": {
    "colab_type": "text",
    "id": "ubalye3aBkO3"
   },
   "source": [
    "We want to group the characters by their last names. IE, we want to **create a dictionary where the *keys* are the last names and the *values* are character names with that last names.**\n",
    "\n",
    "We will simplify the last name recognition by assuming that the last word in each character's name is their last name. Note that this is not 100% correct: \"Grand Maester Pycelle\" and \"Grey Worm\"'s family names are not \"Pycelle\" and \"Worm\", but we digress.\n",
    "\n",
    "You may notice that some character names are mononymous. IE, they go by single names, and thus, do not have last names. \"Hodor\" and \"Melisandre\" are notable examples. We will group these characters under the key `None` (`None` keyword in python)."
   ]
  },
  {
   "cell_type": "markdown",
   "metadata": {
    "colab_type": "text",
    "id": "tn6S4A3GnAx5"
   },
   "source": [
    "## Option 1.\n",
    "Use dictionary comprehension to create this dictionary.\n",
    "\n",
    "**Expected Result**\n",
    "```\n",
    "{'Stark': ['Eddard \"Ned\" Stark', 'Catelyn Stark', 'Sansa Stark', 'Arya Stark', 'Robb Stark', 'Bran Stark', 'Rickon Stark', 'Benjen Stark'], 'Baratheon': ['Robert Baratheon', 'Joffrey Baratheon', 'Stannis Baratheon', 'Tommen Baratheon', 'Myrcella Baratheon', 'Renly Baratheon', 'Shireen Baratheon'], 'Lannister': ['Jaime Lannister', 'Cersei Lannister', 'Tyrion Lannister', 'Tywin Lannister', 'Lancel Lannister', 'Kevan Lannister', 'Alton Lannister'], 'Targaryen': ['Daenerys Targaryen', 'Viserys Targaryen'], 'Mormont': ['Jorah Mormont', 'Jeor Mormont', 'Lyanna Mormont'], 'Snow': ['Jon Snow'], 'Greyjoy': ['Theon Greyjoy', 'Yara Greyjoy', 'Euron Greyjoy'], 'Clegane': ['Sandor \"The Hound\" Clegane', 'Gregor Clegane'], 'Drogo': ['Khal Drogo'], 'Baelish': ['Petyr \"Littlefinger\" Baelish'], 'Seaworth': ['Davos Seaworth'], 'Tarly': ['Samwell Tarly', 'Randyll Tarly', 'Dickon Tarly'], None: ['Melisandre', 'Bronn', 'Varys', 'Shae', 'Ygritte', 'Gendry', 'Gilly', 'Missandei', 'Hodor', 'Grenn', 'Osha', 'Ros', 'Irri', 'Doreah', 'Yoren', 'Rakharo', 'Rast', 'Pypar', 'Qotho', 'Marillion', 'Biter', 'Rorge', 'Craster', 'Kovarro', 'Dagmer', 'Qyburn', 'Locke', 'Orell', 'Anguy', 'Myranda', 'Olyvar', 'Olly', 'Styr', 'Leaf', 'Qhono', 'Izembaro', 'Bobono', 'Clarenzo', 'Harrag'], 'Tyrell': ['Margaery Tyrell', 'Loras Tyrell', 'Olenna Tyrell', 'Mace Tyrell'], 'Maegyr': ['Talisa Maegyr'], 'Giantsbane': ['Tormund Giantsbane'], 'Tarth': ['Brienne of Tarth'], 'Bolton': ['Ramsay Bolton', 'Roose Bolton', 'Walda Bolton'], 'Naharis': ['Daario Naharis'], 'Sand': ['Ellaria Sand', 'Tyene Sand', 'Nymeria Sand', 'Obara Sand'], \"H'ghar\": [\"Jaqen H'ghar\"], 'Sparrow': ['The High Sparrow'], 'Worm': ['Grey Worm'], 'Pycelle': ['Grand Maester Pycelle'], 'Trant': ['Meryn Trant'], 'Slynt': ['Janos Slynt'], 'Cassel': ['Rodrik Cassel', 'Jory Cassel'], 'Luwin': ['Maester Luwin'], 'Payne': ['Ilyn Payne', 'Podrick Payne'], 'Selmy': ['Barristan Selmy'], 'Aemon': ['Maester Aemon'], 'Thorne': ['Alliser Thorne'], 'Yarwyck': ['Othell Yarwyck'], 'Arryn': ['Robin Arryn', 'Lysa Arryn'], 'Mordane': ['Septa Mordane'], 'Umber': ['Greatjon Umber'], 'Duur': ['Mirri Maz Duur'], 'Forel': ['Syrio Forel'], 'Pie': ['Hot Pie'], 'Greenhands': ['Lommy Greenhands'], 'Karstark': ['Rickard Karstark', 'Harald Karstark', 'Alys Karstark'], 'Dondarrion': ['Beric Dondarrion'], 'Tollett': ['Eddison Tollett'], 'Hollard': ['Dontos Hollard'], 'Daxos': ['Xaro Xhoan Daxos'], 'Pree': ['Pyat Pree'], 'Lorch': ['Amory Lorch'], 'Lorren': ['Black Lorren'], 'Halfhand': ['Qhorin Halfhand'], 'King': ['Spice King', 'Silk King', 'Night King'], 'Florent': ['Selyse Florent'], 'Sam': ['Little Sam'], 'Reed': ['Meera Reed', 'Jojen Reed'], 'Rayder': ['Mance Rayder'], 'Tully': ['Edmure Tully', 'Brynden Tully'], 'Myr': ['Thoros of Myr'], 'Nakloz': ['Kraznys mo Nakloz'], 'Septon': ['High Septon'], 'Frey': ['Lothar Frey'], 'Rivers': ['Black Walder Rivers'], 'Martell': ['Oberyn Martell', 'Doran Martell', 'Trystane Martell'], 'warg': ['Thenn warg'], 'Loraq': ['Hizdahr zo Loraq'], 'Royce': ['Yohn Royce'], 'Raven': ['Three-Eyed Raven'], 'Waif': ['The Waif'], 'Marsh': ['Bowen Marsh'], 'Unella': ['Septa Unella'], 'Hotah': ['Areo Hotah'], 'Wun': ['Wun Weg Wun Dar Wun'], 'Wolkan': ['Maester Wolkan'], 'Moro': ['Khal Moro'], 'Crane': ['Lady Crane'], 'Glover': ['Robett Glover'], 'Ebrose': ['Archmaester Ebrose']}\n",
    "```"
   ]
  },
  {
   "cell_type": "code",
   "execution_count": 0,
   "metadata": {
    "colab": {},
    "colab_type": "code",
    "id": "7aM7odJl_mYN"
   },
   "outputs": [],
   "source": [
    "### for check your answer\n",
    "answer = {'Stark': ['Eddard \"Ned\" Stark', 'Catelyn Stark', 'Sansa Stark', 'Arya Stark', 'Robb Stark', 'Bran Stark', 'Rickon Stark', 'Benjen Stark'], 'Baratheon': ['Robert Baratheon', 'Joffrey Baratheon', 'Stannis Baratheon', 'Tommen Baratheon', 'Myrcella Baratheon', 'Renly Baratheon', 'Shireen Baratheon'], 'Lannister': ['Jaime Lannister', 'Cersei Lannister', 'Tyrion Lannister', 'Tywin Lannister', 'Lancel Lannister', 'Kevan Lannister', 'Alton Lannister'], 'Targaryen': ['Daenerys Targaryen', 'Viserys Targaryen'], 'Mormont': ['Jorah Mormont', 'Jeor Mormont', 'Lyanna Mormont'], 'Snow': ['Jon Snow'], 'Greyjoy': ['Theon Greyjoy', 'Yara Greyjoy', 'Euron Greyjoy'], 'Clegane': ['Sandor \"The Hound\" Clegane', 'Gregor Clegane'], 'Drogo': ['Khal Drogo'], 'Baelish': ['Petyr \"Littlefinger\" Baelish'], 'Seaworth': ['Davos Seaworth'], 'Tarly': ['Samwell Tarly', 'Randyll Tarly', 'Dickon Tarly'], None: ['Melisandre', 'Bronn', 'Varys', 'Shae', 'Ygritte', 'Gendry', 'Gilly', 'Missandei', 'Hodor', 'Grenn', 'Osha', 'Ros', 'Irri', 'Doreah', 'Yoren', 'Rakharo', 'Rast', 'Pypar', 'Qotho', 'Marillion', 'Biter', 'Rorge', 'Craster', 'Kovarro', 'Dagmer', 'Qyburn', 'Locke', 'Orell', 'Anguy', 'Myranda', 'Olyvar', 'Olly', 'Styr', 'Leaf', 'Qhono', 'Izembaro', 'Bobono', 'Clarenzo', 'Harrag'], 'Tyrell': ['Margaery Tyrell', 'Loras Tyrell', 'Olenna Tyrell', 'Mace Tyrell'], 'Maegyr': ['Talisa Maegyr'], 'Giantsbane': ['Tormund Giantsbane'], 'Tarth': ['Brienne of Tarth'], 'Bolton': ['Ramsay Bolton', 'Roose Bolton', 'Walda Bolton'], 'Naharis': ['Daario Naharis'], 'Sand': ['Ellaria Sand', 'Tyene Sand', 'Nymeria Sand', 'Obara Sand'], \"H'ghar\": [\"Jaqen H'ghar\"], 'Sparrow': ['The High Sparrow'], 'Worm': ['Grey Worm'], 'Pycelle': ['Grand Maester Pycelle'], 'Trant': ['Meryn Trant'], 'Slynt': ['Janos Slynt'], 'Cassel': ['Rodrik Cassel', 'Jory Cassel'], 'Luwin': ['Maester Luwin'], 'Payne': ['Ilyn Payne', 'Podrick Payne'], 'Selmy': ['Barristan Selmy'], 'Aemon': ['Maester Aemon'], 'Thorne': ['Alliser Thorne'], 'Yarwyck': ['Othell Yarwyck'], 'Arryn': ['Robin Arryn', 'Lysa Arryn'], 'Mordane': ['Septa Mordane'], 'Umber': ['Greatjon Umber'], 'Duur': ['Mirri Maz Duur'], 'Forel': ['Syrio Forel'], 'Pie': ['Hot Pie'], 'Greenhands': ['Lommy Greenhands'], 'Karstark': ['Rickard Karstark', 'Harald Karstark', 'Alys Karstark'], 'Dondarrion': ['Beric Dondarrion'], 'Tollett': ['Eddison Tollett'], 'Hollard': ['Dontos Hollard'], 'Daxos': ['Xaro Xhoan Daxos'], 'Pree': ['Pyat Pree'], 'Lorch': ['Amory Lorch'], 'Lorren': ['Black Lorren'], 'Halfhand': ['Qhorin Halfhand'], 'King': ['Spice King', 'Silk King', 'Night King'], 'Florent': ['Selyse Florent'], 'Sam': ['Little Sam'], 'Reed': ['Meera Reed', 'Jojen Reed'], 'Rayder': ['Mance Rayder'], 'Tully': ['Edmure Tully', 'Brynden Tully'], 'Myr': ['Thoros of Myr'], 'Nakloz': ['Kraznys mo Nakloz'], 'Septon': ['High Septon'], 'Frey': ['Lothar Frey'], 'Rivers': ['Black Walder Rivers'], 'Martell': ['Oberyn Martell', 'Doran Martell', 'Trystane Martell'], 'warg': ['Thenn warg'], 'Loraq': ['Hizdahr zo Loraq'], 'Royce': ['Yohn Royce'], 'Raven': ['Three-Eyed Raven'], 'Waif': ['The Waif'], 'Marsh': ['Bowen Marsh'], 'Unella': ['Septa Unella'], 'Hotah': ['Areo Hotah'], 'Wun': ['Wun Weg Wun Dar Wun'], 'Wolkan': ['Maester Wolkan'], 'Moro': ['Khal Moro'], 'Crane': ['Lady Crane'], 'Glover': ['Robett Glover'], 'Ebrose': ['Archmaester Ebrose']}"
   ]
  },
  {
   "cell_type": "code",
   "execution_count": 0,
   "metadata": {
    "colab": {},
    "colab_type": "code",
    "id": "rJngsSrrDlJN"
   },
   "outputs": [],
   "source": [
    "### Your implementation here\n",
    "family_dict = "
   ]
  },
  {
   "cell_type": "markdown",
   "metadata": {
    "colab_type": "text",
    "id": "uWpuNZmvD79f"
   },
   "source": [
    "## Option 2.\n",
    "\n",
    "This task might seem complicated! Let's break it down into a few steps."
   ]
  },
  {
   "cell_type": "markdown",
   "metadata": {
    "colab_type": "text",
    "id": "wt6FOIpjIAIv"
   },
   "source": [
    "### Step 1. Create a list of character last names\n",
    "Use list comprehension, create a list of last names (the last word in the character names). If the character is mononymous, his/her last name is `None`.\n",
    "\n",
    "**Expected Result**\n",
    "```\n",
    "['Stark', 'Baratheon', 'Lannister', 'Stark', 'Lannister', 'Targaryen', 'Mormont', 'Targaryen', 'Snow', 'Stark', 'Stark', 'Stark', 'Greyjoy', 'Stark', 'Baratheon', 'Clegane', 'Lannister', 'Drogo', 'Baelish', 'Seaworth', 'Tarly', 'Baratheon', 'Melisandre', 'Mormont', 'Bronn', 'Varys', 'Shae', 'Tyrell', 'Lannister', 'Maegyr', 'Ygritte', 'Gendry', 'Giantsbane', 'Tarth', 'Bolton', 'Gilly', 'Naharis', 'Missandei', 'Sand', 'Baratheon', \"H'ghar\", 'Bolton', 'Sparrow', 'Worm', 'Pycelle', 'Trant', 'Hodor', 'Grenn', 'Osha', 'Stark', 'Ros', 'Clegane', 'Slynt', 'Lannister', 'Baratheon', 'Cassel', 'Luwin', 'Irri', 'Doreah', 'Baratheon', 'Yoren', 'Lannister', 'Rakharo', 'Payne', 'Selmy', 'Rast', 'Aemon', 'Pypar', 'Thorne', 'Yarwyck', 'Arryn', 'Stark', 'Arryn', 'Mordane', 'Qotho', 'Cassel', 'Marillion', 'Umber', 'Duur', 'Forel', 'Tyrell', 'Pie', 'Biter', 'Rorge', 'Greenhands', 'Karstark', 'Dondarrion', 'Payne', 'Tollett', 'Greyjoy', 'Craster', 'Hollard', 'Kovarro', 'Dagmer', 'Daxos', 'Pree', 'Lorch', 'Lorren', 'Halfhand', 'King', 'King', 'Lannister', 'Florent', 'Sam', 'Qyburn', 'Tyrell', 'Baratheon', 'Reed', 'Reed', 'Locke', 'Rayder', 'Tully', 'Myr', 'Tully', 'Orell', 'Anguy', 'Nakloz', 'Septon', 'Myranda', 'Olyvar', 'Frey', 'Rivers', 'Olly', 'Tyrell', 'Martell', 'Styr', 'warg', 'Bolton', 'Loraq', 'Royce', 'Raven', 'Leaf', 'King', 'Waif', 'Marsh', 'Unella', 'Sand', 'Sand', 'Sand', 'Hotah', 'Martell', 'Martell', 'Wun', 'Wolkan', 'Qhono', 'Mormont', 'Karstark', 'Izembaro', 'Moro', 'Crane', 'Bobono', 'Clarenzo', 'Greyjoy', 'Glover', 'Tarly', 'Tarly', 'Ebrose', 'Harrag', 'Karstark']\n",
    "```"
   ]
  },
  {
   "cell_type": "code",
   "execution_count": 0,
   "metadata": {
    "colab": {},
    "colab_type": "code",
    "id": "En7mfUYXEXjS"
   },
   "outputs": [],
   "source": [
    "### Your implementation here\n",
    "char_last_names = [name.split()[-1] if ' ' in name else None for name in got_characters]"
   ]
  },
  {
   "cell_type": "markdown",
   "metadata": {
    "colab_type": "text",
    "id": "UMdMXl5EEk64"
   },
   "source": [
    "### Step 2. Pair (character name, last name) into tuples\n",
    "\n",
    "Use `got_characters` and `char_last_names` lists, pair character names and the corresponding last names into a list of tuple using list comprehension.\n",
    "\n",
    "**Expected Result**\n",
    "```\n",
    "[('Eddard \"Ned\" Stark', 'Stark'), ('Robert Baratheon', 'Baratheon'), ('Jaime Lannister', 'Lannister'), ('Catelyn Stark', 'Stark'), ('Cersei Lannister', 'Lannister'), ('Daenerys Targaryen', 'Targaryen'), ('Jorah Mormont', 'Mormont'), ('Viserys Targaryen', 'Targaryen'), ('Jon Snow', 'Snow'), ('Sansa Stark', 'Stark'), ('Arya Stark', 'Stark'), ('Robb Stark', 'Stark'), ('Theon Greyjoy', 'Greyjoy'), ('Bran Stark', 'Stark'), ('Joffrey Baratheon', 'Baratheon'), ('Sandor \"The Hound\" Clegane', 'Clegane'), ('Tyrion Lannister', 'Lannister'), ('Khal Drogo', 'Drogo'), ('Petyr \"Littlefinger\" Baelish', 'Baelish'), ('Davos Seaworth', 'Seaworth'), ('Samwell Tarly', 'Tarly'), ('Stannis Baratheon', 'Baratheon'), ('Melisandre', None), ('Jeor Mormont', 'Mormont'), ('Bronn', None), ('Varys', None), ('Shae', None), ('Margaery Tyrell', 'Tyrell'), ('Tywin Lannister', 'Lannister'), ('Talisa Maegyr', 'Maegyr'), ('Ygritte', None), ('Gendry', None), ('Tormund Giantsbane', 'Giantsbane'), ('Brienne of Tarth', 'Tarth'), ('Ramsay Bolton', 'Bolton'), ('Gilly', None), ('Daario Naharis', 'Naharis'), ('Missandei', None), ('Ellaria Sand', 'Sand'), ('Tommen Baratheon', 'Baratheon'), (\"Jaqen H'ghar\", \"H'ghar\"), ('Roose Bolton', 'Bolton'), ('The High Sparrow', 'Sparrow'), ('Grey Worm', 'Worm'), ('Grand Maester Pycelle', 'Pycelle'), ('Meryn Trant', 'Trant'), ('Hodor', None), ('Grenn', None), ('Osha', None), ('Rickon Stark', 'Stark'), ('Ros', None), ('Gregor Clegane', 'Clegane'), ('Janos Slynt', 'Slynt'), ('Lancel Lannister', 'Lannister'), ('Myrcella Baratheon', 'Baratheon'), ('Rodrik Cassel', 'Cassel'), ('Maester Luwin', 'Luwin'), ('Irri', None), ('Doreah', None), ('Renly Baratheon', 'Baratheon'), ('Yoren', None), ('Kevan Lannister', 'Lannister'), ('Rakharo', None), ('Ilyn Payne', 'Payne'), ('Barristan Selmy', 'Selmy'), ('Rast', None), ('Maester Aemon', 'Aemon'), ('Pypar', None), ('Alliser Thorne', 'Thorne'), ('Othell Yarwyck', 'Yarwyck'), ('Robin Arryn', 'Arryn'), ('Benjen Stark', 'Stark'), ('Lysa Arryn', 'Arryn'), ('Septa Mordane', 'Mordane'), ('Qotho', None), ('Jory Cassel', 'Cassel'), ('Marillion', None), ('Greatjon Umber', 'Umber'), ('Mirri Maz Duur', 'Duur'), ('Syrio Forel', 'Forel'), ('Loras Tyrell', 'Tyrell'), ('Hot Pie', 'Pie'), ('Biter', None), ('Rorge', None), ('Lommy Greenhands', 'Greenhands'), ('Rickard Karstark', 'Karstark'), ('Beric Dondarrion', 'Dondarrion'), ('Podrick Payne', 'Payne'), ('Eddison Tollett', 'Tollett'), ('Yara Greyjoy', 'Greyjoy'), ('Craster', None), ('Dontos Hollard', 'Hollard'), ('Kovarro', None), ('Dagmer', None), ('Xaro Xhoan Daxos', 'Daxos'), ('Pyat Pree', 'Pree'), ('Amory Lorch', 'Lorch'), ('Black Lorren', 'Lorren'), ('Qhorin Halfhand', 'Halfhand'), ('Spice King', 'King'), ('Silk King', 'King'), ('Alton Lannister', 'Lannister'), ('Selyse Florent', 'Florent'), ('Little Sam', 'Sam'), ('Qyburn', None), ('Olenna Tyrell', 'Tyrell'), ('Shireen Baratheon', 'Baratheon'), ('Meera Reed', 'Reed'), ('Jojen Reed', 'Reed'), ('Locke', None), ('Mance Rayder', 'Rayder'), ('Edmure Tully', 'Tully'), ('Thoros of Myr', 'Myr'), ('Brynden Tully', 'Tully'), ('Orell', None), ('Anguy', None), ('Kraznys mo Nakloz', 'Nakloz'), ('High Septon', 'Septon'), ('Myranda', None), ('Olyvar', None), ('Lothar Frey', 'Frey'), ('Black Walder Rivers', 'Rivers'), ('Olly', None), ('Mace Tyrell', 'Tyrell'), ('Oberyn Martell', 'Martell'), ('Styr', None), ('Thenn warg', 'warg'), ('Walda Bolton', 'Bolton'), ('Hizdahr zo Loraq', 'Loraq'), ('Yohn Royce', 'Royce'), ('Three-Eyed Raven', 'Raven'), ('Leaf', None), ('Night King', 'King'), ('The Waif', 'Waif'), ('Bowen Marsh', 'Marsh'), ('Septa Unella', 'Unella'), ('Tyene Sand', 'Sand'), ('Nymeria Sand', 'Sand'), ('Obara Sand', 'Sand'), ('Areo Hotah', 'Hotah'), ('Doran Martell', 'Martell'), ('Trystane Martell', 'Martell'), ('Wun Weg Wun Dar Wun', 'Wun'), ('Maester Wolkan', 'Wolkan'), ('Qhono', None), ('Lyanna Mormont', 'Mormont'), ('Harald Karstark', 'Karstark'), ('Izembaro', None), ('Khal Moro', 'Moro'), ('Lady Crane', 'Crane'), ('Bobono', None), ('Clarenzo', None), ('Euron Greyjoy', 'Greyjoy'), ('Robett Glover', 'Glover'), ('Randyll Tarly', 'Tarly'), ('Dickon Tarly', 'Tarly'), ('Archmaester Ebrose', 'Ebrose'), ('Harrag', None), ('Alys Karstark', 'Karstark')]\n",
    "```"
   ]
  },
  {
   "cell_type": "code",
   "execution_count": 0,
   "metadata": {
    "colab": {
     "base_uri": "https://localhost:8080/",
     "height": 54
    },
    "colab_type": "code",
    "executionInfo": {
     "elapsed": 1016,
     "status": "ok",
     "timestamp": 1574314391098,
     "user": {
      "displayName": "Ponrawee Prasertsom",
      "photoUrl": "https://lh3.googleusercontent.com/a-/AAuE7mC4OktB6GHcMVaBqFDTJ55bVK2n82KimCoye6Bv=s64",
      "userId": "05763151324267494814"
     },
     "user_tz": -420
    },
    "id": "24wli2wpE8_F",
    "outputId": "9dd76ea5-c6e5-4ca0-848b-2e388e994280"
   },
   "outputs": [
    {
     "name": "stdout",
     "output_type": "stream",
     "text": [
      "[('Eddard \"Ned\" Stark', 'Stark'), ('Robert Baratheon', 'Baratheon'), ('Jaime Lannister', 'Lannister'), ('Catelyn Stark', 'Stark'), ('Cersei Lannister', 'Lannister'), ('Daenerys Targaryen', 'Targaryen'), ('Jorah Mormont', 'Mormont'), ('Viserys Targaryen', 'Targaryen'), ('Jon Snow', 'Snow'), ('Sansa Stark', 'Stark'), ('Arya Stark', 'Stark'), ('Robb Stark', 'Stark'), ('Theon Greyjoy', 'Greyjoy'), ('Bran Stark', 'Stark'), ('Joffrey Baratheon', 'Baratheon'), ('Sandor \"The Hound\" Clegane', 'Clegane'), ('Tyrion Lannister', 'Lannister'), ('Khal Drogo', 'Drogo'), ('Petyr \"Littlefinger\" Baelish', 'Baelish'), ('Davos Seaworth', 'Seaworth'), ('Samwell Tarly', 'Tarly'), ('Stannis Baratheon', 'Baratheon'), ('Melisandre', None), ('Jeor Mormont', 'Mormont'), ('Bronn', None), ('Varys', None), ('Shae', None), ('Margaery Tyrell', 'Tyrell'), ('Tywin Lannister', 'Lannister'), ('Talisa Maegyr', 'Maegyr'), ('Ygritte', None), ('Gendry', None), ('Tormund Giantsbane', 'Giantsbane'), ('Brienne of Tarth', 'Tarth'), ('Ramsay Bolton', 'Bolton'), ('Gilly', None), ('Daario Naharis', 'Naharis'), ('Missandei', None), ('Ellaria Sand', 'Sand'), ('Tommen Baratheon', 'Baratheon'), (\"Jaqen H'ghar\", \"H'ghar\"), ('Roose Bolton', 'Bolton'), ('The High Sparrow', 'Sparrow'), ('Grey Worm', 'Worm'), ('Grand Maester Pycelle', 'Pycelle'), ('Meryn Trant', 'Trant'), ('Hodor', None), ('Grenn', None), ('Osha', None), ('Rickon Stark', 'Stark'), ('Ros', None), ('Gregor Clegane', 'Clegane'), ('Janos Slynt', 'Slynt'), ('Lancel Lannister', 'Lannister'), ('Myrcella Baratheon', 'Baratheon'), ('Rodrik Cassel', 'Cassel'), ('Maester Luwin', 'Luwin'), ('Irri', None), ('Doreah', None), ('Renly Baratheon', 'Baratheon'), ('Yoren', None), ('Kevan Lannister', 'Lannister'), ('Rakharo', None), ('Ilyn Payne', 'Payne'), ('Barristan Selmy', 'Selmy'), ('Rast', None), ('Maester Aemon', 'Aemon'), ('Pypar', None), ('Alliser Thorne', 'Thorne'), ('Othell Yarwyck', 'Yarwyck'), ('Robin Arryn', 'Arryn'), ('Benjen Stark', 'Stark'), ('Lysa Arryn', 'Arryn'), ('Septa Mordane', 'Mordane'), ('Qotho', None), ('Jory Cassel', 'Cassel'), ('Marillion', None), ('Greatjon Umber', 'Umber'), ('Mirri Maz Duur', 'Duur'), ('Syrio Forel', 'Forel'), ('Loras Tyrell', 'Tyrell'), ('Hot Pie', 'Pie'), ('Biter', None), ('Rorge', None), ('Lommy Greenhands', 'Greenhands'), ('Rickard Karstark', 'Karstark'), ('Beric Dondarrion', 'Dondarrion'), ('Podrick Payne', 'Payne'), ('Eddison Tollett', 'Tollett'), ('Yara Greyjoy', 'Greyjoy'), ('Craster', None), ('Dontos Hollard', 'Hollard'), ('Kovarro', None), ('Dagmer', None), ('Xaro Xhoan Daxos', 'Daxos'), ('Pyat Pree', 'Pree'), ('Amory Lorch', 'Lorch'), ('Black Lorren', 'Lorren'), ('Qhorin Halfhand', 'Halfhand'), ('Spice King', 'King'), ('Silk King', 'King'), ('Alton Lannister', 'Lannister'), ('Selyse Florent', 'Florent'), ('Little Sam', 'Sam'), ('Qyburn', None), ('Olenna Tyrell', 'Tyrell'), ('Shireen Baratheon', 'Baratheon'), ('Meera Reed', 'Reed'), ('Jojen Reed', 'Reed'), ('Locke', None), ('Mance Rayder', 'Rayder'), ('Edmure Tully', 'Tully'), ('Thoros of Myr', 'Myr'), ('Brynden Tully', 'Tully'), ('Orell', None), ('Anguy', None), ('Kraznys mo Nakloz', 'Nakloz'), ('High Septon', 'Septon'), ('Myranda', None), ('Olyvar', None), ('Lothar Frey', 'Frey'), ('Black Walder Rivers', 'Rivers'), ('Olly', None), ('Mace Tyrell', 'Tyrell'), ('Oberyn Martell', 'Martell'), ('Styr', None), ('Thenn warg', 'warg'), ('Walda Bolton', 'Bolton'), ('Hizdahr zo Loraq', 'Loraq'), ('Yohn Royce', 'Royce'), ('Three-Eyed Raven', 'Raven'), ('Leaf', None), ('Night King', 'King'), ('The Waif', 'Waif'), ('Bowen Marsh', 'Marsh'), ('Septa Unella', 'Unella'), ('Tyene Sand', 'Sand'), ('Nymeria Sand', 'Sand'), ('Obara Sand', 'Sand'), ('Areo Hotah', 'Hotah'), ('Doran Martell', 'Martell'), ('Trystane Martell', 'Martell'), ('Wun Weg Wun Dar Wun', 'Wun'), ('Maester Wolkan', 'Wolkan'), ('Qhono', None), ('Lyanna Mormont', 'Mormont'), ('Harald Karstark', 'Karstark'), ('Izembaro', None), ('Khal Moro', 'Moro'), ('Lady Crane', 'Crane'), ('Bobono', None), ('Clarenzo', None), ('Euron Greyjoy', 'Greyjoy'), ('Robett Glover', 'Glover'), ('Randyll Tarly', 'Tarly'), ('Dickon Tarly', 'Tarly'), ('Archmaester Ebrose', 'Ebrose'), ('Harrag', None), ('Alys Karstark', 'Karstark')]\n"
     ]
    }
   ],
   "source": [
    "### Your implementation here\n",
    "name_last_pairs = [(got_characters[i], char_last_names[i]) for i in range(len(got_characters))]\n",
    "print(name_last_pairs)"
   ]
  },
  {
   "cell_type": "markdown",
   "metadata": {
    "colab_type": "text",
    "id": "PZK2JkFGFg7u"
   },
   "source": [
    "### Step 3. Create the dictionary\n",
    "\n",
    "Now that you have corresponding (character name, last name), create the dictionary using list comprehension.\n",
    "\n",
    "**Expected Result**\n",
    "```\n",
    "{'Stark': ['Eddard \"Ned\" Stark', 'Catelyn Stark', 'Sansa Stark', 'Arya Stark', 'Robb Stark', 'Bran Stark', 'Rickon Stark', 'Benjen Stark'], 'Baratheon': ['Robert Baratheon', 'Joffrey Baratheon', 'Stannis Baratheon', 'Tommen Baratheon', 'Myrcella Baratheon', 'Renly Baratheon', 'Shireen Baratheon'], 'Lannister': ['Jaime Lannister', 'Cersei Lannister', 'Tyrion Lannister', 'Tywin Lannister', 'Lancel Lannister', 'Kevan Lannister', 'Alton Lannister'], 'Targaryen': ['Daenerys Targaryen', 'Viserys Targaryen'], 'Mormont': ['Jorah Mormont', 'Jeor Mormont', 'Lyanna Mormont'], 'Snow': ['Jon Snow'], 'Greyjoy': ['Theon Greyjoy', 'Yara Greyjoy', 'Euron Greyjoy'], 'Clegane': ['Sandor \"The Hound\" Clegane', 'Gregor Clegane'], 'Drogo': ['Khal Drogo'], 'Baelish': ['Petyr \"Littlefinger\" Baelish'], 'Seaworth': ['Davos Seaworth'], 'Tarly': ['Samwell Tarly', 'Randyll Tarly', 'Dickon Tarly'], None: ['Melisandre', 'Bronn', 'Varys', 'Shae', 'Ygritte', 'Gendry', 'Gilly', 'Missandei', 'Hodor', 'Grenn', 'Osha', 'Ros', 'Irri', 'Doreah', 'Yoren', 'Rakharo', 'Rast', 'Pypar', 'Qotho', 'Marillion', 'Biter', 'Rorge', 'Craster', 'Kovarro', 'Dagmer', 'Qyburn', 'Locke', 'Orell', 'Anguy', 'Myranda', 'Olyvar', 'Olly', 'Styr', 'Leaf', 'Qhono', 'Izembaro', 'Bobono', 'Clarenzo', 'Harrag'], 'Tyrell': ['Margaery Tyrell', 'Loras Tyrell', 'Olenna Tyrell', 'Mace Tyrell'], 'Maegyr': ['Talisa Maegyr'], 'Giantsbane': ['Tormund Giantsbane'], 'Tarth': ['Brienne of Tarth'], 'Bolton': ['Ramsay Bolton', 'Roose Bolton', 'Walda Bolton'], 'Naharis': ['Daario Naharis'], 'Sand': ['Ellaria Sand', 'Tyene Sand', 'Nymeria Sand', 'Obara Sand'], \"H'ghar\": [\"Jaqen H'ghar\"], 'Sparrow': ['The High Sparrow'], 'Worm': ['Grey Worm'], 'Pycelle': ['Grand Maester Pycelle'], 'Trant': ['Meryn Trant'], 'Slynt': ['Janos Slynt'], 'Cassel': ['Rodrik Cassel', 'Jory Cassel'], 'Luwin': ['Maester Luwin'], 'Payne': ['Ilyn Payne', 'Podrick Payne'], 'Selmy': ['Barristan Selmy'], 'Aemon': ['Maester Aemon'], 'Thorne': ['Alliser Thorne'], 'Yarwyck': ['Othell Yarwyck'], 'Arryn': ['Robin Arryn', 'Lysa Arryn'], 'Mordane': ['Septa Mordane'], 'Umber': ['Greatjon Umber'], 'Duur': ['Mirri Maz Duur'], 'Forel': ['Syrio Forel'], 'Pie': ['Hot Pie'], 'Greenhands': ['Lommy Greenhands'], 'Karstark': ['Rickard Karstark', 'Harald Karstark', 'Alys Karstark'], 'Dondarrion': ['Beric Dondarrion'], 'Tollett': ['Eddison Tollett'], 'Hollard': ['Dontos Hollard'], 'Daxos': ['Xaro Xhoan Daxos'], 'Pree': ['Pyat Pree'], 'Lorch': ['Amory Lorch'], 'Lorren': ['Black Lorren'], 'Halfhand': ['Qhorin Halfhand'], 'King': ['Spice King', 'Silk King', 'Night King'], 'Florent': ['Selyse Florent'], 'Sam': ['Little Sam'], 'Reed': ['Meera Reed', 'Jojen Reed'], 'Rayder': ['Mance Rayder'], 'Tully': ['Edmure Tully', 'Brynden Tully'], 'Myr': ['Thoros of Myr'], 'Nakloz': ['Kraznys mo Nakloz'], 'Septon': ['High Septon'], 'Frey': ['Lothar Frey'], 'Rivers': ['Black Walder Rivers'], 'Martell': ['Oberyn Martell', 'Doran Martell', 'Trystane Martell'], 'warg': ['Thenn warg'], 'Loraq': ['Hizdahr zo Loraq'], 'Royce': ['Yohn Royce'], 'Raven': ['Three-Eyed Raven'], 'Waif': ['The Waif'], 'Marsh': ['Bowen Marsh'], 'Unella': ['Septa Unella'], 'Hotah': ['Areo Hotah'], 'Wun': ['Wun Weg Wun Dar Wun'], 'Wolkan': ['Maester Wolkan'], 'Moro': ['Khal Moro'], 'Crane': ['Lady Crane'], 'Glover': ['Robett Glover'], 'Ebrose': ['Archmaester Ebrose']}\n",
    "```"
   ]
  },
  {
   "cell_type": "code",
   "execution_count": 0,
   "metadata": {
    "colab": {
     "base_uri": "https://localhost:8080/",
     "height": 54
    },
    "colab_type": "code",
    "executionInfo": {
     "elapsed": 1313,
     "status": "ok",
     "timestamp": 1574314882864,
     "user": {
      "displayName": "Ponrawee Prasertsom",
      "photoUrl": "https://lh3.googleusercontent.com/a-/AAuE7mC4OktB6GHcMVaBqFDTJ55bVK2n82KimCoye6Bv=s64",
      "userId": "05763151324267494814"
     },
     "user_tz": -420
    },
    "id": "rJie5mNvF9-3",
    "outputId": "a35ed94e-bf09-4bfe-e753-6ad0dcbae026"
   },
   "outputs": [
    {
     "name": "stdout",
     "output_type": "stream",
     "text": [
      "{'Stark': ['Eddard \"Ned\" Stark', 'Catelyn Stark', 'Sansa Stark', 'Arya Stark', 'Robb Stark', 'Bran Stark', 'Rickon Stark', 'Benjen Stark'], 'Baratheon': ['Robert Baratheon', 'Joffrey Baratheon', 'Stannis Baratheon', 'Tommen Baratheon', 'Myrcella Baratheon', 'Renly Baratheon', 'Shireen Baratheon'], 'Lannister': ['Jaime Lannister', 'Cersei Lannister', 'Tyrion Lannister', 'Tywin Lannister', 'Lancel Lannister', 'Kevan Lannister', 'Alton Lannister'], 'Targaryen': ['Daenerys Targaryen', 'Viserys Targaryen'], 'Mormont': ['Jorah Mormont', 'Jeor Mormont', 'Lyanna Mormont'], 'Snow': ['Jon Snow'], 'Greyjoy': ['Theon Greyjoy', 'Yara Greyjoy', 'Euron Greyjoy'], 'Clegane': ['Sandor \"The Hound\" Clegane', 'Gregor Clegane'], 'Drogo': ['Khal Drogo'], 'Baelish': ['Petyr \"Littlefinger\" Baelish'], 'Seaworth': ['Davos Seaworth'], 'Tarly': ['Samwell Tarly', 'Randyll Tarly', 'Dickon Tarly'], None: ['Melisandre', 'Bronn', 'Varys', 'Shae', 'Ygritte', 'Gendry', 'Gilly', 'Missandei', 'Hodor', 'Grenn', 'Osha', 'Ros', 'Irri', 'Doreah', 'Yoren', 'Rakharo', 'Rast', 'Pypar', 'Qotho', 'Marillion', 'Biter', 'Rorge', 'Craster', 'Kovarro', 'Dagmer', 'Qyburn', 'Locke', 'Orell', 'Anguy', 'Myranda', 'Olyvar', 'Olly', 'Styr', 'Leaf', 'Qhono', 'Izembaro', 'Bobono', 'Clarenzo', 'Harrag'], 'Tyrell': ['Margaery Tyrell', 'Loras Tyrell', 'Olenna Tyrell', 'Mace Tyrell'], 'Maegyr': ['Talisa Maegyr'], 'Giantsbane': ['Tormund Giantsbane'], 'Tarth': ['Brienne of Tarth'], 'Bolton': ['Ramsay Bolton', 'Roose Bolton', 'Walda Bolton'], 'Naharis': ['Daario Naharis'], 'Sand': ['Ellaria Sand', 'Tyene Sand', 'Nymeria Sand', 'Obara Sand'], \"H'ghar\": [\"Jaqen H'ghar\"], 'Sparrow': ['The High Sparrow'], 'Worm': ['Grey Worm'], 'Pycelle': ['Grand Maester Pycelle'], 'Trant': ['Meryn Trant'], 'Slynt': ['Janos Slynt'], 'Cassel': ['Rodrik Cassel', 'Jory Cassel'], 'Luwin': ['Maester Luwin'], 'Payne': ['Ilyn Payne', 'Podrick Payne'], 'Selmy': ['Barristan Selmy'], 'Aemon': ['Maester Aemon'], 'Thorne': ['Alliser Thorne'], 'Yarwyck': ['Othell Yarwyck'], 'Arryn': ['Robin Arryn', 'Lysa Arryn'], 'Mordane': ['Septa Mordane'], 'Umber': ['Greatjon Umber'], 'Duur': ['Mirri Maz Duur'], 'Forel': ['Syrio Forel'], 'Pie': ['Hot Pie'], 'Greenhands': ['Lommy Greenhands'], 'Karstark': ['Rickard Karstark', 'Harald Karstark', 'Alys Karstark'], 'Dondarrion': ['Beric Dondarrion'], 'Tollett': ['Eddison Tollett'], 'Hollard': ['Dontos Hollard'], 'Daxos': ['Xaro Xhoan Daxos'], 'Pree': ['Pyat Pree'], 'Lorch': ['Amory Lorch'], 'Lorren': ['Black Lorren'], 'Halfhand': ['Qhorin Halfhand'], 'King': ['Spice King', 'Silk King', 'Night King'], 'Florent': ['Selyse Florent'], 'Sam': ['Little Sam'], 'Reed': ['Meera Reed', 'Jojen Reed'], 'Rayder': ['Mance Rayder'], 'Tully': ['Edmure Tully', 'Brynden Tully'], 'Myr': ['Thoros of Myr'], 'Nakloz': ['Kraznys mo Nakloz'], 'Septon': ['High Septon'], 'Frey': ['Lothar Frey'], 'Rivers': ['Black Walder Rivers'], 'Martell': ['Oberyn Martell', 'Doran Martell', 'Trystane Martell'], 'warg': ['Thenn warg'], 'Loraq': ['Hizdahr zo Loraq'], 'Royce': ['Yohn Royce'], 'Raven': ['Three-Eyed Raven'], 'Waif': ['The Waif'], 'Marsh': ['Bowen Marsh'], 'Unella': ['Septa Unella'], 'Hotah': ['Areo Hotah'], 'Wun': ['Wun Weg Wun Dar Wun'], 'Wolkan': ['Maester Wolkan'], 'Moro': ['Khal Moro'], 'Crane': ['Lady Crane'], 'Glover': ['Robett Glover'], 'Ebrose': ['Archmaester Ebrose']}\n"
     ]
    }
   ],
   "source": [
    "### Your implementation here\n",
    "def append_family(name, last):\n",
    "  if last in family_dict:\n",
    "    family_dict[last].append(name)\n",
    "  else:\n",
    "    family_dict[last] = [name]\n",
    "\n",
    "family_dict = {}\n",
    "for (name, last) in name_last_pairs:\n",
    "  if last not in family_dict:\n",
    "    family_dict[last] = []\n",
    "  family_dict[last].append(name)\n",
    "print(family_dict)"
   ]
  },
  {
   "cell_type": "markdown",
   "metadata": {
    "colab_type": "text",
    "id": "JPPlENBwGCNA"
   },
   "source": [
    "## Usage\n",
    "\n",
    "### Some simple tasks"
   ]
  },
  {
   "cell_type": "code",
   "execution_count": 0,
   "metadata": {
    "colab": {},
    "colab_type": "code",
    "id": "GKRQsTZzGdvX"
   },
   "outputs": [],
   "source": [
    "# Number of families\n",
    "print(len(family_dict.keys()))"
   ]
  },
  {
   "cell_type": "code",
   "execution_count": 0,
   "metadata": {
    "colab": {},
    "colab_type": "code",
    "id": "nO90vwqXDrFY"
   },
   "outputs": [],
   "source": [
    "# Mononymous characters\n",
    "print(family_dict[None])"
   ]
  },
  {
   "cell_type": "markdown",
   "metadata": {
    "colab_type": "text",
    "id": "y5jVdYO4hRXe"
   },
   "source": [
    "![Stark Family Tree](https://www.telltalesonline.com/wp-content/uploads/2019/02/stark-family-tree.jpg)"
   ]
  },
  {
   "cell_type": "code",
   "execution_count": 0,
   "metadata": {
    "colab": {},
    "colab_type": "code",
    "id": "7YM7wx7nGRfh"
   },
   "outputs": [],
   "source": [
    "# Stark family\n",
    "print(family_dict['Stark'])"
   ]
  },
  {
   "cell_type": "markdown",
   "metadata": {
    "colab_type": "text",
    "id": "1o5GaRffhiMU"
   },
   "source": [
    "![Lannister Family Tree](https://cdn.images.express.co.uk/img/dynamic/20/590x/secondary/Game-of-Thrones-season-7-House-Lannister-who-Tyrion-Cersei-Jaime-1035130.jpg)"
   ]
  },
  {
   "cell_type": "code",
   "execution_count": 0,
   "metadata": {
    "colab": {},
    "colab_type": "code",
    "id": "szaqx4daGWpz"
   },
   "outputs": [],
   "source": [
    "# Number of Lannisters\n",
    "print(len(family_dict['Lannister']))"
   ]
  },
  {
   "cell_type": "markdown",
   "metadata": {
    "colab_type": "text",
    "id": "ut2h_eekGqGj"
   },
   "source": [
    "### More challenging task\n",
    "\n",
    "Sort the families in decreasing order of number of characters in the family.\n",
    "\n",
    "**Expected Result**\n",
    "```\n",
    "[None, 'Stark', 'Baratheon', 'Lannister', 'Tyrell', 'Sand', 'Mormont', 'Greyjoy', 'Tarly', 'Bolton', 'Karstark', 'King', 'Martell', 'Targaryen', 'Clegane', 'Cassel', 'Payne', 'Arryn', 'Reed', 'Tully', 'Snow', 'Drogo', 'Baelish', 'Seaworth', 'Maegyr', 'Giantsbane', 'Tarth', 'Naharis', \"H'ghar\", 'Sparrow', 'Worm', 'Pycelle', 'Trant', 'Slynt', 'Luwin', 'Selmy', 'Aemon', 'Thorne', 'Yarwyck', 'Mordane', 'Umber', 'Duur', 'Forel', 'Pie', 'Greenhands', 'Dondarrion', 'Tollett', 'Hollard', 'Daxos', 'Pree', 'Lorch', 'Lorren', 'Halfhand', 'Florent', 'Sam', 'Rayder', 'Myr', 'Nakloz', 'Septon', 'Frey', 'Rivers', 'warg', 'Loraq', 'Royce', 'Raven', 'Waif', 'Marsh', 'Unella', 'Hotah', 'Wun', 'Wolkan', 'Moro', 'Crane', 'Glover', 'Ebrose']\n",
    "```"
   ]
  },
  {
   "cell_type": "code",
   "execution_count": 0,
   "metadata": {
    "colab": {},
    "colab_type": "code",
    "id": "IeFHsuwTG0Hk"
   },
   "outputs": [],
   "source": [
    "### Your implementation here"
   ]
  }
 ],
 "metadata": {
  "colab": {
   "collapsed_sections": [
    "uWpuNZmvD79f"
   ],
   "name": "week15 python tricks.ipynb",
   "provenance": []
  },
  "kernelspec": {
   "display_name": "Python 3",
   "language": "python",
   "name": "python3"
  },
  "language_info": {
   "codemirror_mode": {
    "name": "ipython",
    "version": 3
   },
   "file_extension": ".py",
   "mimetype": "text/x-python",
   "name": "python",
   "nbconvert_exporter": "python",
   "pygments_lexer": "ipython3",
   "version": "3.7.6"
  }
 },
 "nbformat": 4,
 "nbformat_minor": 1
}
